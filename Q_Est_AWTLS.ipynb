{
 "cells": [
  {
   "cell_type": "code",
   "execution_count": 3,
   "metadata": {
    "collapsed": true
   },
   "outputs": [],
   "source": [
    "# ----------------------------------------------------------------------------------------------------------------\n",
    "# This jupyter notebook defines the data structure and iteration fuction for the cell capalicty estimate algorithm\n",
    "# using the Approximate Weighted Total Least Squares (AWTLS) method.\n",
    "# ----------------------------------------------------------------------------------------------------------------"
   ]
  },
  {
   "cell_type": "code",
   "execution_count": 4,
   "metadata": {},
   "outputs": [
    {
     "name": "stdout",
     "output_type": "stream",
     "text": [
      "Overwriting Q_Est_AWTLS.py\n"
     ]
    }
   ],
   "source": [
    "%%writefile Q_Est_AWTLS.py\n",
    "\n",
    "import numpy as np\n",
    "\n",
    "\n",
    "class AWTLS_Data:\n",
    "# ----------------------------------------------------------------------------------------------------------------\n",
    "# This is a class containing necessary data to proceed cell capacity estimate through Q_Est_AWTLS function\n",
    "# ----------------------------------------------------------------------------------------------------------------\n",
    "    \n",
    "    def __init__(self):\n",
    "        \n",
    "        self.c1 = None               # c1_n = c1_n-1 + x_n^2/Vary\n",
    "        self.c2 = None               # c1_n = c1_n-1 + x_n^2/Vary\n",
    "        self.c3 = None               # c3_n = c2_n-1 + y_n^2/Vary\n",
    "        self.c4 = None               # c4_n = c4_n-1 + x_n^2/Varx\n",
    "        self.c5 = None               # c5_n = c5_n-1 + x_n*y_n/Varx\n",
    "        self.c6 = None               # c6_n = c6_n-1 + y_n^2/Varx\n",
    "        self.gamma = None            # fading memory factor \n",
    "        \n",
    "    def setup(self,Q,Varx,Vary,gamma):\n",
    "        # Initiate the data structure\n",
    "        \n",
    "        if Q==0:\n",
    "            self.c1 = 0        \n",
    "            self.c2 = 0      \n",
    "            self.c3 = 0    \n",
    "            self.c4 = 0               \n",
    "            self.c5 = 0            \n",
    "            self.c6 = 0 \n",
    "        else:\n",
    "            K = (Varx/Vary)**0.5\n",
    "            self.c1 = 1**2/Vary/K**2         \n",
    "            self.c2 = 1*Q/Vary/K      \n",
    "            self.c3 = Q**2/Vary     \n",
    "            self.c4 = 1**2/Varx               \n",
    "            self.c5 = 1*Q/Varx*K            \n",
    "            self.c6 = Q**2/Varx*K**2         \n",
    "\n",
    "        self.gamma = gamma\n",
    "        \n",
    "def Q_Est_AWTLS(x,y,Varx,Vary,AWTLSData):\n",
    "# ----------------------------------------------------------------------------------------------------------------\n",
    "# This function estimates cell capcity through AWTLS.\n",
    "# Input: SOC change(x), integral current(y), variance of SOC change(Varx), variance of integral current(Vary), \n",
    "#        AWTLSdata (AWTLSData)\n",
    "# Output: cell capcity estimate(Q_hat), variance of capacity estimate(VarQ), AWTLSdata Update(AWTLSData)\n",
    "# ----------------------------------------------------------------------------------------------------------------\n",
    "    \n",
    "    # Load AWLTSdata\n",
    "    gamma = AWTLSData.gamma\n",
    "    c1 = AWTLSData.c1\n",
    "    c2 = AWTLSData.c2\n",
    "    c3 = AWTLSData.c3\n",
    "    c4 = AWTLSData.c4\n",
    "    c5 = AWTLSData.c5\n",
    "    c6 = AWTLSData.c6\n",
    "    \n",
    "    # Update AWTLS paramters \n",
    "    K = (Varx/Vary)**0.5\n",
    "    c1 = c1*gamma + x**2/Vary/K**2\n",
    "    c2 = c2*gamma + x*y/Vary/K\n",
    "    c3 = c3*gamma + y**2/Vary\n",
    "    c4 = c4*gamma + x**2/Varx\n",
    "    c5 = c5*gamma + x*y/Varx*K\n",
    "    c6 = c6*gamma + y**2/Varx*K**2\n",
    "    \n",
    "    # Find Q that minimizes cost function\n",
    "    r = np.roots([c5,-c1+2*c4-c6,3*c2-3*c5,c1-2*c3+c6,-c2]) # roots of the Jacobian of cost function\n",
    "    r = r[np.imag(r)==0]\n",
    "    r = np.real(r)\n",
    "    r = r[r>0]\n",
    "    cost = (1/(r**2+1)**2) * (c4*r**4-2*c5*r**3+(c1+c6)*r**2-2*c2*r+c3) # cost corresponding to each root\n",
    "    r = r[cost == min(cost)][0]\n",
    "    Q_hat = r/K\n",
    "    \n",
    "    # Find the corresponding Hessian of cost function\n",
    "    H = (2/(r**2+1)**4) * (-2*c5*r**5+(3*c1-6*c4+3*c6)*r**4+(-12*c2+16*c5)*r**3+\\\n",
    "                           (-8*c1+10*c3+6*c4-8*c6)*r**2+(12*c2-6*c5)*r+(c1-2*c3+c6))\n",
    "    \n",
    "    # Calcualte the variance of Q estimate\n",
    "    VarQ = 2/H/K**2\n",
    "    \n",
    "    # Update AWLTSdata\n",
    "    AWTLSData.c1 = c1\n",
    "    AWTLSData.c2 = c1\n",
    "    AWTLSData.c3 = c3\n",
    "    AWTLSData.c4 = c4\n",
    "    AWTLSData.c5 = c5\n",
    "    AWTLSData.c6 = c6\n",
    "    \n",
    "    return Q_hat, VarQ, AWTLSData"
   ]
  },
  {
   "cell_type": "code",
   "execution_count": null,
   "metadata": {
    "collapsed": true
   },
   "outputs": [],
   "source": []
  }
 ],
 "metadata": {
  "kernelspec": {
   "display_name": "Python 3",
   "language": "python",
   "name": "python3"
  },
  "language_info": {
   "codemirror_mode": {
    "name": "ipython",
    "version": 3
   },
   "file_extension": ".py",
   "mimetype": "text/x-python",
   "name": "python",
   "nbconvert_exporter": "python",
   "pygments_lexer": "ipython3",
   "version": "3.6.8"
  }
 },
 "nbformat": 4,
 "nbformat_minor": 2
}
