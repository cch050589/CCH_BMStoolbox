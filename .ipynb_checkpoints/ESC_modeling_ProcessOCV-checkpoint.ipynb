{
 "cells": [
  {
   "cell_type": "code",
   "execution_count": 1,
   "metadata": {
    "collapsed": true
   },
   "outputs": [],
   "source": [
    "# -----------------------------------------------------------------------------------------------------------------\n",
    "# This jupyter notebook of ESC modeling construct approximate cell open circuit voltage (OCV) with dependence on \n",
    "# state of charge (SOC) and temperature.  It assumes that specific cell test scripts were run to generate the input\n",
    "# data structure having fields of time, step, current, voltage, chgAh and disAh for each script run.\n",
    "#\n",
    "# Script 1 (thermal chamber set to test temperature):\n",
    "# Step 1: Rest @ 100% SOC to acclimatize to test temperature \n",
    "# Step 2: Discharge @ low rate (ca. C/30) to min voltage \n",
    "# Step 3: Rest ca. 0%\n",
    "# \n",
    "# Script 2 (thermal chamber set to 25 degC):\n",
    "# Step 1: Rest ca. 0% SOC to acclimatize to 25 degC\n",
    "# Step 2: Discharge to min voltage (ca. C/3)\n",
    "# Step 3: Rest\n",
    "# Step 4: Const voltage at vmin until current small (ca. C/30) \n",
    "# Steps 5-7: Dither around vmin\n",
    "# Step 8: Rest\n",
    "# Step 9: Constant voltage at vmin for 15 min\n",
    "# Step 10: Rest\n",
    "#\n",
    "# Script 3 (thermal chamber set to test temperature): \n",
    "# Step 1: Rest at 0% SOC to acclimatize to test temp \n",
    "# Step 2: Charge @ low rate (ca. C/30) to max voltage \n",
    "# Step 3: Rest\n",
    "#\n",
    "# Script 4 (thermal chamber set to 25 degC):\n",
    "# Step 1: Rest ca. 100% SOC to acclimatize to 25 degC\n",
    "# Step 2: Charge to max voltage (ca. C/3)\n",
    "# Step 3: Rest\n",
    "# Step 4: Const voltage at vmax until current small (ca. C/30) \n",
    "# Steps 5-7: Dither around vmax\n",
    "# Step 8: Rest\n",
    "# Step 9: Constant voltage at vmax for 15 min\n",
    "# Step 10: Rest\n",
    "# -----------------------------------------------------------------------------------------------------------------"
   ]
  },
  {
   "cell_type": "code",
   "execution_count": 2,
   "metadata": {
    "collapsed": true
   },
   "outputs": [],
   "source": [
    "import pandas as pd\n",
    "import numpy as np\n",
    "from scipy import interpolate\n",
    "from scipy.linalg import lstsq\n",
    "import pickle\n",
    "from ESC_modeling import ESCmodel"
   ]
  },
  {
   "cell_type": "code",
   "execution_count": 3,
   "metadata": {
    "collapsed": true
   },
   "outputs": [],
   "source": [
    "# -----------------------------------------------------------------------------------------------------------------\n",
    "# Specify cell and test parameters\n",
    "# -----------------------------------------------------------------------------------------------------------------\n",
    "\n",
    "cellID = 'P14'\n",
    "minV = 2.50  # the lower bound of voltage contrain\n",
    "maxV = 4.25  # the upper bound of voltage contrain \n",
    "temps = [-25,-15,-5,5,15,25,35,45]  # temperatures at which cell tests were conducted"
   ]
  },
  {
   "cell_type": "code",
   "execution_count": 4,
   "metadata": {
    "collapsed": true
   },
   "outputs": [],
   "source": [
    "# -----------------------------------------------------------------------------------------------------------------\n",
    "# Initaite a model\n",
    "# -----------------------------------------------------------------------------------------------------------------\n",
    "\n",
    "Model = ESCmodel()\n",
    "Model.SOC = np.arange(0.0,1.0+0.005,0.005)\n",
    "Model.OCV = np.arange(minV-0.01,maxV+0.02,0.01)\n",
    "\n",
    "eta = np.zeros(len(temps)) \n",
    "Q = np.zeros(len(temps)) "
   ]
  },
  {
   "cell_type": "code",
   "execution_count": 5,
   "metadata": {
    "collapsed": true
   },
   "outputs": [],
   "source": [
    "# -----------------------------------------------------------------------------------------------------------------\n",
    "# Load raw data of cell test\n",
    "# -----------------------------------------------------------------------------------------------------------------\n",
    "\n",
    "OCVdir = cellID + '_OCV'\n",
    "OCVdata = {}\n",
    "\n",
    "for T in temps:\n",
    "    OCVdata_temp = {}\n",
    "    \n",
    "    for script in [1,2,3,4]:\n",
    "        if T > 0:\n",
    "            OCVfile = '%s_P%02d_S%d.xlsx' % (OCVdir,T,script)\n",
    "        else:\n",
    "            OCVfile = '%s_N%02d_S%d.xlsx' % (OCVdir,abs(T),script)\n",
    "        \n",
    "        data = pd.read_excel(OCVdir+'/'+OCVfile,'Channel_1-003')\n",
    "        data = data[['Test_Time(s)','Step_Index','Current(A)','Voltage(V)',\\\n",
    "                     'Charge_Capacity(Ah)','Discharge_Capacity(Ah)']]\n",
    "        data.columns = ['time','step','current','voltage','chgAh','disAh']\n",
    "        \n",
    "        OCVdata_temp[str(script)] = data\n",
    "        \n",
    "    OCVdata[str(T)] = OCVdata_temp"
   ]
  },
  {
   "cell_type": "code",
   "execution_count": 6,
   "metadata": {
    "collapsed": true
   },
   "outputs": [],
   "source": [
    "# -----------------------------------------------------------------------------------------------------------------\n",
    "# Find coulombic efficiency and capacity at 25 degC\n",
    "# -----------------------------------------------------------------------------------------------------------------\n",
    "\n",
    "totDisAh = 0\n",
    "totChgAh = 0\n",
    "\n",
    "for script in [1,2,3,4]:\n",
    "    totDisAh = totDisAh + OCVdata[str(25)][str(script)]['disAh'].iloc[-1]\n",
    "    totChgAh = totChgAh + OCVdata[str(25)][str(script)]['chgAh'].iloc[-1]\n",
    "eta25 = totDisAh / totChgAh\n",
    "eta[temps.index(25)] = eta25\n",
    "\n",
    "for script in [1,2,3,4]:\n",
    "    OCVdata[str(25)][str(script)]['chgAh'] = OCVdata[str(25)][str(script)]['chgAh']*eta25\n",
    "\n",
    "Q25 = OCVdata[str(25)]['1']['disAh'].iloc[-1] + OCVdata[str(25)]['2']['disAh'].iloc[-1]\\\n",
    "    - OCVdata[str(25)]['1']['chgAh'].iloc[-1] - OCVdata[str(25)]['2']['chgAh'].iloc[-1]\n",
    "Q[temps.index(25)] = Q25\n",
    "\n",
    "\n",
    "# -----------------------------------------------------------------------------------------------------------------\n",
    "# Find coulombic efficiency and capacity at other temperatures\n",
    "# -----------------------------------------------------------------------------------------------------------------\n",
    "\n",
    "for x,T in enumerate(temps):\n",
    "    if T != 25:\n",
    "        OCVdata[str(T)]['2']['chgAh'] = OCVdata[str(T)]['2']['chgAh']*eta25\n",
    "        OCVdata[str(T)]['4']['chgAh'] = OCVdata[str(T)]['4']['chgAh']*eta25\n",
    "       \n",
    "        etaT = (OCVdata[str(T)]['1']['disAh'].iloc[-1]\\\n",
    "                +OCVdata[str(T)]['2']['disAh'].iloc[-1]\\\n",
    "                +OCVdata[str(T)]['3']['disAh'].iloc[-1]\\\n",
    "                +OCVdata[str(T)]['4']['disAh'].iloc[-1]\\\n",
    "                -OCVdata[str(T)]['2']['chgAh'].iloc[-1]\\\n",
    "                -OCVdata[str(T)]['4']['chgAh'].iloc[-1])\\\n",
    "                /(OCVdata[str(T)]['1']['chgAh'].iloc[-1]\\\n",
    "                +OCVdata[str(T)]['3']['chgAh'].iloc[-1])\n",
    "        \n",
    "        OCVdata[str(T)]['1']['chgAh'] = OCVdata[str(T)]['1']['chgAh']*etaT\n",
    "        OCVdata[str(T)]['3']['chgAh'] = OCVdata[str(T)]['3']['chgAh']*etaT\n",
    "        eta[x] = etaT\n",
    "        \n",
    "        Q[x] = OCVdata[str(T)]['1']['disAh'].iloc[-1] + OCVdata[str(T)]['2']['disAh'].iloc[-1]\\\n",
    "            - OCVdata[str(T)]['1']['chgAh'].iloc[-1] - OCVdata[str(T)]['2']['chgAh'].iloc[-1]"
   ]
  },
  {
   "cell_type": "code",
   "execution_count": 7,
   "metadata": {
    "collapsed": true
   },
   "outputs": [],
   "source": [
    "# -----------------------------------------------------------------------------------------------------------------\n",
    "# Find approximate OCV-SOC relationship at each temp\n",
    "# -----------------------------------------------------------------------------------------------------------------\n",
    "\n",
    "rawOCV = np.zeros((len(temps),len(Model.SOC)))\n",
    "\n",
    "for x,T in enumerate(temps):\n",
    "\n",
    "    #Compute ohmic resistance (R0) estimates\n",
    "    indD = OCVdata[str(T)]['1'].index[OCVdata[str(T)]['1']['step']==2].tolist()\n",
    "    IR1Da = OCVdata[str(T)]['1']['voltage'][indD[0]-1] - OCVdata[str(T)]['1']['voltage'][indD[0]]\n",
    "    IR2Da = OCVdata[str(T)]['1']['voltage'][indD[-1]+1] - OCVdata[str(T)]['1']['voltage'][indD[-1]]\n",
    "\n",
    "    indC = OCVdata[str(T)]['3'].index[OCVdata[str(T)]['3']['step']==2].tolist()\n",
    "    IR1Ca = OCVdata[str(T)]['3']['voltage'][indC[0]] - OCVdata[str(T)]['3']['voltage'][indC[0]-1]\n",
    "    IR2Ca = OCVdata[str(T)]['3']['voltage'][indC[-1]] - OCVdata[str(T)]['3']['voltage'][indC[-1]+1]\n",
    "\n",
    "    IR1D = min(IR1Da, 2*IR2Ca)\n",
    "    IR2D = min(IR2Da, 2*IR1Ca)\n",
    "    IR1C = min(IR1Ca, 2*IR2Da)\n",
    "    IR2C = min(IR2Ca, 2*IR1Da)\n",
    "\n",
    "    # Adjust voltage curves: compensate dis/charge curves for R0*i(t)\n",
    "    IRDblend = [IR1D + (IR2D-IR1D)*x/(len(indD)-1) for x in range(len(indD))]\n",
    "    disV = OCVdata[str(T)]['1']['voltage'][indD[:]] + IRDblend\n",
    "    disZ = 1 - OCVdata[str(T)]['1']['disAh'][indD[:]]/Q25\n",
    "    disZ = disZ + (1-disZ.iloc[0])  #force initial 100% SOC\n",
    "\n",
    "    IRCblend = [IR1C + (IR2C-IR1C)*x/(len(indC)-1) for x in range(len(indC))]\n",
    "    chgV = OCVdata[str(T)]['3']['voltage'][indC[:]] - IRCblend\n",
    "    chgZ = OCVdata[str(T)]['3']['chgAh'][indC[:]]/Q25\n",
    "    chgZ = chgZ - chgZ.iloc[0]  #force initial 0% SOC\n",
    "    \n",
    "    # Compensate for steady-state resistance\n",
    "    deltaV50 = interpolate.interp1d(chgZ,chgV)(0.5) - interpolate.interp1d(disZ,disV)(0.5)\n",
    "\n",
    "    cInd = chgV.index[chgZ<0.5].tolist()\n",
    "    zChg = chgZ[cInd[:]]\n",
    "    vChg = chgV[cInd[:]] - zChg*deltaV50\n",
    "\n",
    "    dInd = disV.index[disZ>0.5].tolist()\n",
    "    zDis = disZ[dInd[:]]\n",
    "    vDis = disV[dInd[:]] + (1-zDis)*deltaV50\n",
    "    \n",
    "    # Compute OCV corresponding to specified SOC\n",
    "    rawocv = interpolate.interp1d(pd.concat([zDis,zChg]),pd.concat([vDis,vChg]))(Model.SOC)\n",
    "    \n",
    "    rawOCV[x] = rawocv"
   ]
  },
  {
   "cell_type": "code",
   "execution_count": 8,
   "metadata": {
    "collapsed": true
   },
   "outputs": [],
   "source": [
    "# -----------------------------------------------------------------------------------------------------------------\n",
    "# Combine multiple OCV-SOC relationships into a temepature-depedent OCV-SOC relationship: \n",
    "# OCV(z,T) = OCV0(z) + T*OCVrel(z)\n",
    "# -----------------------------------------------------------------------------------------------------------------\n",
    "\n",
    "# The approximate OCV relationships obtained below 0 degC are discarded becuase they severely deviate from true OCV\n",
    "# due to much higher resistance and hysteresis\n",
    "A = np.array([[1,T] for T in temps if T>0])\n",
    "Y = rawOCV[[x for x,T in enumerate(temps) if T>0],:]\n",
    "X = np.linalg.lstsq(A, Y)\n",
    "\n",
    "# store the OCV-SOC relationship in the model\n",
    "Model.OCV0 = X[0][0]\n",
    "Model.OCVrel = X[0][1]"
   ]
  },
  {
   "cell_type": "code",
   "execution_count": 9,
   "metadata": {
    "collapsed": true
   },
   "outputs": [],
   "source": [
    "# -----------------------------------------------------------------------------------------------------------------\n",
    "# Find temepature-depedent SOC-OCV relationship: SOC(v,T) = SOC0(v) + T*SOCrel(v)\n",
    "# -----------------------------------------------------------------------------------------------------------------\n",
    "\n",
    "rawSOC = np.zeros((len(temps),len(Model.OCV)))\n",
    "z = np.arange(-0.1,1.1+0.01,0.01)\n",
    "\n",
    "for x,T in enumerate(temps):\n",
    "    v = Model.OCVfromSOCtemp(z,T)\n",
    "    rawSOC[x] = interpolate.interp1d(v,z)(Model.OCV)\n",
    "\n",
    "A = np.array([[1,T] for T in temps])\n",
    "Y = rawSOC\n",
    "X = np.linalg.lstsq(A, Y)\n",
    "\n",
    "# store the SOC-OCV relationship in the model\n",
    "Model.SOC0 = X[0][0]\n",
    "Model.SOCrel = X[0][1]"
   ]
  },
  {
   "cell_type": "code",
   "execution_count": 10,
   "metadata": {
    "collapsed": true
   },
   "outputs": [],
   "source": [
    "# -----------------------------------------------------------------------------------------------------------------\n",
    "# Export the model object\n",
    "# -----------------------------------------------------------------------------------------------------------------\n",
    "\n",
    "model_file = cellID + '_model.pickle'\n",
    "pickle.dump(Model, open(model_file, 'wb'))"
   ]
  },
  {
   "cell_type": "code",
   "execution_count": null,
   "metadata": {
    "collapsed": true
   },
   "outputs": [],
   "source": []
  }
 ],
 "metadata": {
  "kernelspec": {
   "display_name": "Python 3",
   "language": "python",
   "name": "python3"
  },
  "language_info": {
   "codemirror_mode": {
    "name": "ipython",
    "version": 3
   },
   "file_extension": ".py",
   "mimetype": "text/x-python",
   "name": "python",
   "nbconvert_exporter": "python",
   "pygments_lexer": "ipython3",
   "version": "3.6.8"
  }
 },
 "nbformat": 4,
 "nbformat_minor": 2
}
