{
 "cells": [
  {
   "cell_type": "code",
   "execution_count": 4,
   "metadata": {
    "collapsed": true
   },
   "outputs": [],
   "source": [
    "import pandas as pd\n",
    "import numpy as np\n",
    "from scipy import interpolate\n",
    "import matplotlib.pyplot as plt\n",
    "import pickle\n",
    "from ESC_modeling import model"
   ]
  },
  {
   "cell_type": "code",
   "execution_count": 5,
   "metadata": {
    "collapsed": true
   },
   "outputs": [],
   "source": [
    "# -----------------------------------------------------------------------\n",
    "# Initaite parameters and import the correponding model\n",
    "# -----------------------------------------------------------------------\n",
    "\n",
    "cellID = 'P14'\n",
    "temps = [-25, -15, -5, 5, 15, 25, 35, 45]  \n",
    "mags = [4, 5, 20, 30, 50, 50, 50, 50]\n",
    "\n",
    "model_file = cellID + '_model.pickle'\n",
    "Model = pickle.load(open(model_file,'rb'))\n",
    "\n",
    "delta_t = 1 # sampling time interval"
   ]
  },
  {
   "cell_type": "code",
   "execution_count": 6,
   "metadata": {},
   "outputs": [],
   "source": [
    "# --------------------------------------------------------------------\n",
    "# Load raw testing data and proceed delta_t interpolation\n",
    "# --------------------------------------------------------------------\n",
    "\n",
    "DYNdir = cellID + '_DYN'\n",
    "DYNdata = {}\n",
    "\n",
    "for x,T in enumerate(temps):\n",
    "    if T > 0:\n",
    "        DYNfile = '%s_%02d_P%02d_S1.xlsx' % (DYNdir,mags[x],T)\n",
    "    else:\n",
    "        DYNfile = '%s_%02d_N%02d_S1.xlsx' % (DYNdir,mags[x],abs(T))\n",
    "    data = pd.read_excel(DYNdir+'/'+DYNfile,'Channel_1-003')\n",
    "    data = data[['Test_Time(s)','Step_Index','Current(A)','Voltage(V)']]\n",
    "    data.columns = ['time','step','current','voltage']\n",
    "    DYNdata[str(T)] = data\n",
    "\n",
    "    # keep step 2, and last 300s of step 1\n",
    "    t1 = DYNdata[str(T)]['time'][DYNdata[str(T)]['step'].index[DYNdata[str(T)]['step'] == 2][0]] - 300\n",
    "    t2 = DYNdata[str(T)]['time'].iloc[-1]\n",
    "    time = np.arange(t1, t2, delta_t)\n",
    "    current = -1*interpolate.interp1d(DYNdata[str(T)]['time'],DYNdata[str(T)]['current'])(time)\n",
    "    voltage = interpolate.interp1d(DYNdata[str(T)]['time'],DYNdata[str(T)]['voltage'])(time)\n",
    "    data =  pd.DataFrame(np.stack((time,current,voltage),axis=-1),columns=['time','current','voltage'])\n",
    "    DYNdata[str(T)]= data"
   ]
  },
  {
   "cell_type": "code",
   "execution_count": 7,
   "metadata": {
    "collapsed": true
   },
   "outputs": [],
   "source": [
    "# set parameters and load data\n",
    "    \n",
    "T = 25\n",
    "\n",
    "R0 = Model.getParam('R0Param',T)  # Get true R0 value\n",
    "eta = Model.getParam('etaParam',T)\n",
    "\n",
    "tk = DYNdata[str(T)]['time'].values\n",
    "tk = tk - tk[0]\n",
    "ik = DYNdata[str(T)]['current'].values\n",
    "vk = DYNdata[str(T)]['voltage'].values\n",
    "etaik = np.zeros((len(vk)))\n",
    "for i in range(len(etaik)):\n",
    "    etaik[i] = ik[i]\n",
    "    if ik[i] < 0: etaik[i] = etaik[i]*eta\n",
    "\n",
    "R0hat = np.zeros((len(vk),1))     # Reserve storage for estimate\n",
    "R0hat[0] = R0                     # initiate R0\n",
    "\n",
    "threshold = 10  # Do not update R0 estimate if absolute change in current less than \"threshold\"\n",
    "alpha = 0.999   # Filtering parameter of one-pole digial filter"
   ]
  },
  {
   "cell_type": "code",
   "execution_count": 11,
   "metadata": {},
   "outputs": [
    {
     "data": {
      "text/plain": [
       "[<matplotlib.lines.Line2D at 0x1118905f8>]"
      ]
     },
     "execution_count": 11,
     "metadata": {},
     "output_type": "execute_result"
    }
   ],
   "source": [
    "# estimate R0 (unfiltered)\n",
    "\n",
    "for k in range(1,len(vk)):\n",
    "    if abs(etaik[k]-etaik[k-1]) < threshold:\n",
    "        R0hat[k] = R0hat[k-1]\n",
    "    else:\n",
    "        R0hat[k] = abs((vk[k]-vk[k-1])/(etaik[k]-etaik[k-1]))\n",
    "        \n",
    "# plot R0 estimates\n",
    "plt.plot(tk/60,R0hat*1000,'b-', label='Unfiltered')"
   ]
  },
  {
   "cell_type": "code",
   "execution_count": 12,
   "metadata": {},
   "outputs": [
    {
     "data": {
      "image/png": "[encoded data removed]",
      "text/plain": [
       "<matplotlib.figure.Figure at 0x1124b2978>"
      ]
     },
     "metadata": {},
     "output_type": "display_data"
    }
   ],
   "source": [
    "# filter R0 estimates with one-pole digital filter\n",
    "\n",
    "for k in range(1,len(vk)):\n",
    "    R0hat[k] = alpha*R0hat[k-1] + (1-alpha)*R0hat[k]\n",
    "    \n",
    "# plot R0 estimates\n",
    "plt.plot(tk/60,R0hat*1000,'r-', label='filtered')\n",
    "plt.xlabel('Time (min)')\n",
    "plt.ylabel('R0 (mΩ)')\n",
    "plt.title('Estimated R0 at %d$^\\circ$C' % T)\n",
    "plt.legend(loc='best')\n",
    "plt.show()"
   ]
  },
  {
   "cell_type": "code",
   "execution_count": null,
   "metadata": {
    "collapsed": true
   },
   "outputs": [],
   "source": []
  }
 ],
 "metadata": {
  "kernelspec": {
   "display_name": "Python 3",
   "language": "python",
   "name": "python3"
  },
  "language_info": {
   "codemirror_mode": {
    "name": "ipython",
    "version": 3
   },
   "file_extension": ".py",
   "mimetype": "text/x-python",
   "name": "python",
   "nbconvert_exporter": "python",
   "pygments_lexer": "ipython3",
   "version": "3.6.8"
  }
 },
 "nbformat": 4,
 "nbformat_minor": 2
}
